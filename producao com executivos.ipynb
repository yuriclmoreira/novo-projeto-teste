{
 "cells": [
  {
   "cell_type": "code",
   "execution_count": 1,
   "metadata": {},
   "outputs": [],
   "source": [
    "# importing pandas as pd \n",
    "import pandas as pd \n",
    "  \n",
    "# Making data frame from the csv file \n",
    "nome_empresa = \"ACE\"\n",
    "empresas = pd.read_csv(\"Empresas.csv\",encoding = \"UTF-8\",sep = \";\")\n",
    "executivos = pd.read_csv(\"Executivos.csv\",encoding = \"UTF-8\",sep = \";\")\n"
   ]
  },
  {
   "cell_type": "code",
   "execution_count": 2,
   "metadata": {},
   "outputs": [
    {
     "data": {
      "text/plain": [
       "Index(['CNPJ', 'Nome', 'Ocupacao', 'Empresa', 'Link', 'Email', 'EmailValidado',\n",
       "       'Departamento'],\n",
       "      dtype='object')"
      ]
     },
     "execution_count": 2,
     "metadata": {},
     "output_type": "execute_result"
    }
   ],
   "source": [
    "executivos.columns\n"
   ]
  },
  {
   "cell_type": "code",
   "execution_count": 3,
   "metadata": {},
   "outputs": [],
   "source": [
    "caracteristicas_inuteis_empresas = {'FATURAMENTO PRESUMIDO ANUAL','SITUACAO CADASTRAL', 'MATRIZ',\n",
    "                                 'CNAE', 'DESCRICAO CNAE', 'CNAE2', 'DESCRICAO CNAE2', 'NATUREZA','CEP','EMAIL1 VALIDO',\n",
    "                                 'EMAIL2', 'EMAIL2 VALIDO', 'EMAIL3', 'EMAIL3 VALIDO',\n",
    "                                 'CAPITAL SOCIAL', 'PORTE', 'TITULO','QUANTIDADE FUNCIONARIOS', 'QUANTIDADE SOCIOS',\n",
    "                                 'NATUREZA JURIDICA', 'PERSONA ATIVIDADE', 'DATA ABERTURA', 'FLMOVELSOCIO','TIPO EMPRESA',\n",
    "                                 'SEGMENTO DIGITAL' }"
   ]
  },
  {
   "cell_type": "code",
   "execution_count": 4,
   "metadata": {},
   "outputs": [],
   "source": [
    "empresas.drop(caracteristicas_inuteis_empresas,axis=1 ,inplace =True)"
   ]
  },
  {
   "cell_type": "code",
   "execution_count": 5,
   "metadata": {},
   "outputs": [
    {
     "data": {
      "text/plain": [
       "Index(['CNPJ', 'RAZAO', 'NOME FANTASIA', 'TIPO LOGRADOURO', 'LOGRADOURO',\n",
       "       'NUMERO', 'COMPLEMENTO', 'BAIRRO', 'CIDADE', 'UF', 'EMAIL1', 'DDDFIXO1',\n",
       "       'FONEFIXO1', 'DDDFIXO2', 'FONEFIXO2', 'DDDFIXO3', 'FONEFIXO3',\n",
       "       'DDDFIXO4', 'FONEFIXO4', 'DDDMOVEL1', 'FONEMOVEL1', 'DDDMOVEL2',\n",
       "       'FONEMOVEL2', 'DDDMOVEL3', 'FONEMOVEL3', 'DDDMOVEL4', 'FONEMOVEL4',\n",
       "       'WEB SITE', 'Nome', 'Ocupacao', 'Empresa', 'Link', 'Email',\n",
       "       'EmailValidado', 'Departamento'],\n",
       "      dtype='object')"
      ]
     },
     "execution_count": 5,
     "metadata": {},
     "output_type": "execute_result"
    }
   ],
   "source": [
    "df3 = []\n",
    "\n",
    "for index, row in executivos.iterrows():\n",
    "    df3.append(empresas.loc[empresas.CNPJ == row.CNPJ])\n",
    "    \n",
    "df3 = pd.concat(df3)\n",
    "#concat\n",
    "df = pd.concat([df3.reset_index(drop=True), executivos], axis=1)\n",
    "#removendo duplicados\n",
    "df = df.loc[:,~df.columns.duplicated()]\n",
    "df.columns"
   ]
  },
  {
   "cell_type": "code",
   "execution_count": 6,
   "metadata": {},
   "outputs": [],
   "source": [
    "#Convertendo o Cnpj para o formato certo\n",
    "df['CNPJ'] = df['CNPJ'].astype('str')\n"
   ]
  },
  {
   "cell_type": "code",
   "execution_count": null,
   "metadata": {},
   "outputs": [],
   "source": [
    "\n"
   ]
  },
  {
   "cell_type": "code",
   "execution_count": 7,
   "metadata": {},
   "outputs": [],
   "source": [
    "# criando campo observação \n",
    "df['OBSERVACAO 1'] = \"\"\n",
    "df['OBSERVACAO 2'] = \"\""
   ]
  },
  {
   "cell_type": "code",
   "execution_count": 8,
   "metadata": {},
   "outputs": [],
   "source": [
    "#definindo funcao que adapta telefone\n",
    "def montaTelefone(ddd,telefone):\n",
    "    return (\"(\" + str(ddd) + \")\" + str(telefone))"
   ]
  },
  {
   "cell_type": "code",
   "execution_count": 9,
   "metadata": {},
   "outputs": [],
   "source": [
    "#Preechendo campos nulos de telefone fixo:\n",
    "df['DDDFIXO1'].fillna(0,inplace = True)\n",
    "df['DDDFIXO2'].fillna(0,inplace = True)\n",
    "df['DDDFIXO3'].fillna(0,inplace = True)\n",
    "df['DDDFIXO4'].fillna(0,inplace = True)\n",
    "\n",
    "\n",
    "df['FONEFIXO1'].fillna(0,inplace = True)\n",
    "df['FONEFIXO2'].fillna(0,inplace = True)\n",
    "df['FONEFIXO3'].fillna(0,inplace = True)\n",
    "df['FONEFIXO4'].fillna(0,inplace = True)\n",
    "\n"
   ]
  },
  {
   "cell_type": "code",
   "execution_count": 10,
   "metadata": {},
   "outputs": [],
   "source": [
    "#Preechendo campos nulos de telefone celular:\n",
    "df['DDDMOVEL1'].fillna(0,inplace = True)\n",
    "df['DDDMOVEL2'].fillna(0,inplace = True)\n",
    "df['DDDMOVEL3'].fillna(0,inplace = True)\n",
    "df['DDDMOVEL4'].fillna(0,inplace = True)\n",
    "\n",
    "\n",
    "df['FONEMOVEL1'].fillna(0,inplace = True)\n",
    "df['FONEMOVEL2'].fillna(0,inplace = True)\n",
    "df['FONEMOVEL3'].fillna(0,inplace = True)\n",
    "df['FONEMOVEL4'].fillna(0,inplace = True)\n",
    "\n",
    "\n"
   ]
  },
  {
   "cell_type": "code",
   "execution_count": 11,
   "metadata": {},
   "outputs": [],
   "source": [
    "# corrigindo telefone fixo da empresa\n",
    "df['TELEFONE FIXO DA EMPRESA 1'] = df.apply(lambda x: montaTelefone(int(x['DDDFIXO1']),x['FONEFIXO1']), axis = 1)\n",
    "df['TELEFONE FIXO DA EMPRESA 2'] = df.apply(lambda x: montaTelefone(int(x['DDDFIXO2']),int(x['FONEFIXO2'])), axis = 1)\n",
    "df['TELEFONE FIXO DA EMPRESA 3'] = df.apply(lambda x: montaTelefone(int(x['DDDFIXO3']),int(x['FONEFIXO3'])), axis = 1)\n",
    "df['TELEFONE FIXO DA EMPRESA 4'] = df.apply(lambda x: montaTelefone(int(x['DDDFIXO4']),int(x['FONEFIXO4'])), axis = 1)\n",
    "info_telefone_picado = {'DDDFIXO1', 'FONEFIXO1','DDDFIXO2', 'FONEFIXO2', 'DDDFIXO3', 'FONEFIXO3','DDDFIXO4','FONEFIXO4'}\n",
    "df.drop(info_telefone_picado,axis = 1 , inplace = True)"
   ]
  },
  {
   "cell_type": "code",
   "execution_count": 12,
   "metadata": {},
   "outputs": [],
   "source": [
    "# executivos não vem celular"
   ]
  },
  {
   "cell_type": "code",
   "execution_count": 13,
   "metadata": {},
   "outputs": [],
   "source": [
    "#funcao que monta o endereco\n",
    "def montaEndereco(tipo,logradouro):\n",
    "    return (str(tipo) + \" \" + str(logradouro))"
   ]
  },
  {
   "cell_type": "code",
   "execution_count": 14,
   "metadata": {},
   "outputs": [],
   "source": [
    "#corrige formato do numero de telefone com .0\n",
    "df['NUMERO'].fillna(-11, inplace = True)\n",
    "df['NUMERO1'] = df['NUMERO'].astype(int)\n",
    "df['NUMERO1'].replace(-11, \"Sem Numero\", inplace = True)\n",
    "df['NUMERO'] = df['NUMERO1']"
   ]
  },
  {
   "cell_type": "code",
   "execution_count": 15,
   "metadata": {},
   "outputs": [],
   "source": [
    "#aplica a criacao do campo endereco \n",
    "df['ENDERECO'] = df.apply(lambda x: montaEndereco(x['TIPO LOGRADOURO'], x['LOGRADOURO'] ), axis =1)\n",
    "lista_endereco = {'NUMERO1', 'TIPO LOGRADOURO' , 'LOGRADOURO'}\n",
    "df.drop(lista_endereco , axis = 1, inplace = True)"
   ]
  },
  {
   "cell_type": "code",
   "execution_count": null,
   "metadata": {},
   "outputs": [],
   "source": []
  },
  {
   "cell_type": "code",
   "execution_count": 16,
   "metadata": {},
   "outputs": [],
   "source": [
    "#Mudando nomes de variaveis \n",
    "df['NOME DO FUNCIONARIO'] = df['Nome']\n",
    "df['RAZAO SOCIAL'] = df['RAZAO']\n",
    "df['EMAIL CADASTRADO NA RECEITA'] = df['EMAIL1']\n",
    "df['EMAIL CORPORATIVO DO FUNCIONARIO'] = df['Email']\n",
    "df['LINKEDIN DO FUNCIONARIO'] = df['Link']\n",
    "\n",
    "\n",
    "lista_remover_trocados ={'Nome','EMAIL1','Email','RAZAO','Link'}\n",
    "df.drop(lista_remover_trocados,axis = 1, inplace =True)\n"
   ]
  },
  {
   "cell_type": "code",
   "execution_count": 17,
   "metadata": {},
   "outputs": [],
   "source": [
    "#passando variaveis para minusculo\n",
    "df['RAZAO SOCIAL'] = df['RAZAO SOCIAL'].str.title()\n",
    "df['NOME FANTASIA'] = df['NOME FANTASIA'].str.title()\n",
    "\n",
    "#df['TIPO LOGRADOURO'] = df['TIPO LOGRADOURO'].str.title()\n",
    "#df['LOGRADOURO'] = df['LOGRADOURO'].str.title()\n",
    "df['ENDERECO'] = df['ENDERECO'].str.title()\n",
    "\n",
    "df['COMPLEMENTO'] = df['COMPLEMENTO'].str.title()\n",
    "df['BAIRRO'] = df['BAIRRO'].str.title()\n",
    "\n",
    "\n",
    "df['CIDADE'] = df['CIDADE'].str.title()\n",
    "df['NOME DO FUNCIONARIO'] = df['NOME DO FUNCIONARIO'].str.title()\n",
    "df['CARGO DO FUNCIONARIO'] = df['Ocupacao'].str.title()\n",
    "df['DEPARTAMENTO DO FUNCIONARIO'] = df['Departamento'].str.title()\n",
    "\n",
    "\n",
    "\n",
    "df['EMAIL CADASTRADO NA RECEITA'] = df['EMAIL CADASTRADO NA RECEITA'].str.lower()"
   ]
  },
  {
   "cell_type": "code",
   "execution_count": null,
   "metadata": {},
   "outputs": [],
   "source": []
  },
  {
   "cell_type": "code",
   "execution_count": 18,
   "metadata": {},
   "outputs": [
    {
     "name": "stderr",
     "output_type": "stream",
     "text": [
      "/Users/yurimoreira/opt/anaconda3/lib/python3.7/site-packages/pandas/core/frame.py:4263: SettingWithCopyWarning: \n",
      "A value is trying to be set on a copy of a slice from a DataFrame\n",
      "\n",
      "See the caveats in the documentation: http://pandas.pydata.org/pandas-docs/stable/user_guide/indexing.html#returning-a-view-versus-a-copy\n",
      "  method=method,\n"
     ]
    }
   ],
   "source": [
    "df1 = df[['CNPJ', 'RAZAO SOCIAL', 'NOME FANTASIA',\n",
    "       'ENDERECO', 'NUMERO', 'COMPLEMENTO', 'BAIRRO',\n",
    "       'CIDADE', 'UF', 'WEB SITE','NOME DO FUNCIONARIO','CARGO DO FUNCIONARIO','DEPARTAMENTO DO FUNCIONARIO', 'TELEFONE FIXO DA EMPRESA 1',\n",
    "       'TELEFONE FIXO DA EMPRESA 2', 'TELEFONE FIXO DA EMPRESA 3',\n",
    "       'TELEFONE FIXO DA EMPRESA 4','LINKEDIN DO FUNCIONARIO','EMAIL CORPORATIVO DO FUNCIONARIO','EMAIL CADASTRADO NA RECEITA','OBSERVACAO 1',\n",
    "       'OBSERVACAO 2']]\n",
    "df1.replace('(0)0','-',inplace = True)\n",
    "#df1.to_csv(nome_empresa + \"Modelo Planilha.csv\", sep = ';')\n",
    "df1.to_csv(\"leads_\" + nome_empresa + \" com executivos \" + \".csv\", sep = ';')"
   ]
  },
  {
   "cell_type": "code",
   "execution_count": null,
   "metadata": {},
   "outputs": [],
   "source": []
  }
 ],
 "metadata": {
  "kernelspec": {
   "display_name": "Python 3",
   "language": "python",
   "name": "python3"
  },
  "language_info": {
   "codemirror_mode": {
    "name": "ipython",
    "version": 3
   },
   "file_extension": ".py",
   "mimetype": "text/x-python",
   "name": "python",
   "nbconvert_exporter": "python",
   "pygments_lexer": "ipython3",
   "version": "3.7.4"
  }
 },
 "nbformat": 4,
 "nbformat_minor": 4
}
